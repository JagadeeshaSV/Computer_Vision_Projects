{
 "cells": [
  {
   "cell_type": "code",
   "execution_count": 1,
   "id": "cultural-palace",
   "metadata": {},
   "outputs": [],
   "source": [
    "# Datset source\n",
    "# https://archive.ics.uci.edu/ml/datasets/Airfoil+Self-Noise"
   ]
  },
  {
   "cell_type": "code",
   "execution_count": 2,
   "id": "african-diagnosis",
   "metadata": {},
   "outputs": [],
   "source": [
    "# Problem Statement: Predict the american sign language alphabets from images"
   ]
  },
  {
   "cell_type": "code",
   "execution_count": 3,
   "id": "subjective-small",
   "metadata": {},
   "outputs": [],
   "source": [
    "# Notebook built using the template of following pytorch tutorial\n",
    "# https://pytorch.org/tutorials/beginner/blitz/cifar10_tutorial.html#sphx-glr-beginner-blitz-cifar10-tutorial-py"
   ]
  },
  {
   "cell_type": "code",
   "execution_count": 4,
   "id": "governing-marshall",
   "metadata": {},
   "outputs": [],
   "source": [
    "# Python ≥3.5 is required\n",
    "import sys\n",
    "assert sys.version_info >= (3, 5)\n",
    "\n",
    "# Scikit-Learn ≥0.20 is required\n",
    "import sklearn\n",
    "assert sklearn.__version__ >= \"0.20\"\n",
    "\n",
    "\n",
    "# Common imports\n",
    "import numpy as np\n",
    "import os\n",
    "from glob import glob\n",
    "from PIL import Image\n",
    "from sklearn.model_selection import train_test_split\n",
    "\n",
    "# Pytorch imports\n",
    "import torch\n",
    "import torchvision\n",
    "import torchvision.transforms as transforms\n",
    "from torch.utils.data import TensorDataset, DataLoader\n",
    "\n",
    "\n",
    "# to make this notebook's output stable across runs\n",
    "np.random.seed(2)\n",
    "\n",
    "# To plot pretty figures\n",
    "%matplotlib inline\n",
    "import matplotlib as mpl\n",
    "import matplotlib.pyplot as plt\n",
    "mpl.rc('axes', labelsize=14)\n",
    "mpl.rc('xtick', labelsize=12)\n",
    "mpl.rc('ytick', labelsize=12)"
   ]
  },
  {
   "cell_type": "code",
   "execution_count": 5,
   "id": "vanilla-enforcement",
   "metadata": {},
   "outputs": [],
   "source": [
    "base_dir = '../datasets/ASL_Alphabet/'\n",
    "train_dir = 'asl_alphabet_train/asl_alphabet_train'\n",
    "test_dir = 'asl_alphabet_test/asl_alphabet_test'"
   ]
  },
  {
   "cell_type": "code",
   "execution_count": 6,
   "id": "opponent-merit",
   "metadata": {},
   "outputs": [
    {
     "name": "stdout",
     "output_type": "stream",
     "text": [
      "(29000, 200, 200, 3) 29000\n"
     ]
    }
   ],
   "source": [
    "train_folder_list = glob(os.path.join(base_dir, train_dir) + '/*')\n",
    "\n",
    "i = 0\n",
    "images_array = np.zeros((29000, 200, 200, 3), dtype=np.uint8)\n",
    "images_label_list = []\n",
    "for letter_folder in train_folder_list:\n",
    "    image_list = glob(letter_folder + '/*.jpg')\n",
    "    letter_label = os.path.basename(letter_folder)\n",
    "    for index, image in enumerate(image_list):\n",
    "        with Image.open(image) as img:\n",
    "            img_array = np.asarray(img, dtype=np.uint8)\n",
    "            images_array[i] = img_array\n",
    "            images_label_list.append(letter_label)\n",
    "        i += 1\n",
    "        if index == 999:\n",
    "            break\n",
    "        \n",
    "print(images_array.shape, len(images_label_list))"
   ]
  },
  {
   "cell_type": "code",
   "execution_count": 7,
   "id": "natural-albany",
   "metadata": {},
   "outputs": [
    {
     "name": "stdout",
     "output_type": "stream",
     "text": [
      "J\n"
     ]
    }
   ],
   "source": [
    "print(images_label_list[24395])\n",
    "sample_image = Image.fromarray(images_array[24395].astype(np.uint8))\n",
    "sample_image.show()"
   ]
  },
  {
   "cell_type": "code",
   "execution_count": 8,
   "id": "korean-factory",
   "metadata": {},
   "outputs": [
    {
     "name": "stdout",
     "output_type": "stream",
     "text": [
      "0 G <class 'str'>\n",
      "1000 I <class 'str'>\n",
      "2000 B <class 'str'>\n",
      "3000 Z <class 'str'>\n",
      "4000 W <class 'str'>\n",
      "5000 C <class 'str'>\n",
      "6000 L <class 'str'>\n",
      "7000 M <class 'str'>\n",
      "8000 F <class 'str'>\n",
      "9000 Y <class 'str'>\n",
      "10000 A <class 'str'>\n",
      "11000 Q <class 'str'>\n",
      "12000 D <class 'str'>\n",
      "13000 X <class 'str'>\n",
      "14000 nothing <class 'str'>\n",
      "15000 space <class 'str'>\n",
      "16000 R <class 'str'>\n",
      "17000 K <class 'str'>\n",
      "18000 E <class 'str'>\n",
      "19000 V <class 'str'>\n",
      "20000 U <class 'str'>\n",
      "21000 H <class 'str'>\n",
      "22000 T <class 'str'>\n",
      "23000 N <class 'str'>\n",
      "24000 J <class 'str'>\n",
      "25000 P <class 'str'>\n",
      "26000 del <class 'str'>\n",
      "27000 S <class 'str'>\n",
      "28000 O <class 'str'>\n"
     ]
    }
   ],
   "source": [
    "for index, letter in enumerate(images_label_list):\n",
    "    if (index%1000) == 0:\n",
    "        print(index, letter, type(letter))"
   ]
  },
  {
   "cell_type": "code",
   "execution_count": 9,
   "id": "sized-lunch",
   "metadata": {},
   "outputs": [],
   "source": [
    "for index, letter in enumerate(images_label_list):\n",
    "    if letter == 'A':\n",
    "        images_label_list[index] = int(0)\n",
    "    elif letter == 'B':\n",
    "        images_label_list[index] = 1\n",
    "    elif letter == 'C':\n",
    "        images_label_list[index] = 2\n",
    "    elif letter == 'D':\n",
    "        images_label_list[index] = 3\n",
    "    elif letter == 'E':\n",
    "        images_label_list[index] = 4\n",
    "    elif letter == 'F':\n",
    "        images_label_list[index] = 5\n",
    "    elif letter == 'G':\n",
    "        images_label_list[index] = 6\n",
    "    elif letter == 'H':\n",
    "        images_label_list[index] = 7\n",
    "    elif letter == 'I':\n",
    "        images_label_list[index] = 8\n",
    "    elif letter == 'J':\n",
    "        images_label_list[index] = 9\n",
    "    elif letter == 'K':\n",
    "        images_label_list[index] = 10\n",
    "    elif letter == 'L':\n",
    "        images_label_list[index] = 11\n",
    "    elif letter == 'M':\n",
    "        images_label_list[index] = 12\n",
    "    elif letter == 'N':\n",
    "        images_label_list[index] = 13\n",
    "    elif letter == 'O':\n",
    "        images_label_list[index] = 14\n",
    "    elif letter == 'P':\n",
    "        images_label_list[index] = 15\n",
    "    elif letter == 'Q':\n",
    "        images_label_list[index] = 16\n",
    "    elif letter == 'R':\n",
    "        images_label_list[index] = 17\n",
    "    elif letter == 'S':\n",
    "        images_label_list[index] = 18\n",
    "    elif letter == 'T':\n",
    "        images_label_list[index] = 19\n",
    "    elif letter == 'U':\n",
    "        images_label_list[index] = 20\n",
    "    elif letter == 'V':\n",
    "        images_label_list[index] = 21\n",
    "    elif letter == 'W':\n",
    "        images_label_list[index] = 22\n",
    "    elif letter == 'X':\n",
    "        images_label_list[index] = 23\n",
    "    elif letter == 'Y':\n",
    "        images_label_list[index] = 24\n",
    "    elif letter == 'Z':\n",
    "        images_label_list[index] = 25\n",
    "    elif letter == 'del':\n",
    "        images_label_list[index] = 26\n",
    "    elif letter == 'nothing':\n",
    "        images_label_list[index] = 27\n",
    "    elif letter == 'space':\n",
    "        images_label_list[index] = 28"
   ]
  },
  {
   "cell_type": "code",
   "execution_count": 10,
   "id": "decent-canberra",
   "metadata": {},
   "outputs": [
    {
     "name": "stdout",
     "output_type": "stream",
     "text": [
      "0 6 <class 'int'>\n",
      "1000 8 <class 'int'>\n",
      "2000 1 <class 'int'>\n",
      "3000 25 <class 'int'>\n",
      "4000 22 <class 'int'>\n",
      "5000 2 <class 'int'>\n",
      "6000 11 <class 'int'>\n",
      "7000 12 <class 'int'>\n",
      "8000 5 <class 'int'>\n",
      "9000 24 <class 'int'>\n",
      "10000 0 <class 'int'>\n",
      "11000 16 <class 'int'>\n",
      "12000 3 <class 'int'>\n",
      "13000 23 <class 'int'>\n",
      "14000 27 <class 'int'>\n",
      "15000 28 <class 'int'>\n",
      "16000 17 <class 'int'>\n",
      "17000 10 <class 'int'>\n",
      "18000 4 <class 'int'>\n",
      "19000 21 <class 'int'>\n",
      "20000 20 <class 'int'>\n",
      "21000 7 <class 'int'>\n",
      "22000 19 <class 'int'>\n",
      "23000 13 <class 'int'>\n",
      "24000 9 <class 'int'>\n",
      "25000 15 <class 'int'>\n",
      "26000 26 <class 'int'>\n",
      "27000 18 <class 'int'>\n",
      "28000 14 <class 'int'>\n"
     ]
    }
   ],
   "source": [
    "for index, letter in enumerate(images_label_list):\n",
    "    if (index%1000) == 0:\n",
    "        print(index, letter, type(letter))"
   ]
  },
  {
   "cell_type": "code",
   "execution_count": 11,
   "id": "automated-insurance",
   "metadata": {},
   "outputs": [
    {
     "name": "stdout",
     "output_type": "stream",
     "text": [
      "(29000, 3, 200, 200) (29000,)\n"
     ]
    }
   ],
   "source": [
    "images_array = images_array / 255.0\n",
    "images_array = np.moveaxis(images_array, -1, 1)\n",
    "images_array.shape\n",
    "\n",
    "y = np.asarray(images_label_list)\n",
    "print(images_array.shape, y.shape)"
   ]
  },
  {
   "cell_type": "code",
   "execution_count": 12,
   "id": "piano-jefferson",
   "metadata": {},
   "outputs": [
    {
     "name": "stdout",
     "output_type": "stream",
     "text": [
      " X_train shape:  (27550, 3, 200, 200) \n",
      " y_train shape:  (27550,) \n",
      " X_test shape:  (1450, 3, 200, 200) \n",
      " y_test shape:  (1450,) \n",
      "\n"
     ]
    }
   ],
   "source": [
    "X_train, X_test, y_train, y_test = train_test_split(images_array, y, test_size=0.05, random_state=2)\n",
    "\n",
    "print(\" X_train shape: \", X_train.shape,\"\\n\", \"y_train shape: \", y_train.shape,\"\\n\",\n",
    "        \"X_test shape: \", X_test.shape,\"\\n\", \"y_test shape: \", y_test.shape,\"\\n\")"
   ]
  },
  {
   "cell_type": "code",
   "execution_count": 13,
   "id": "active-focus",
   "metadata": {},
   "outputs": [],
   "source": [
    "# Free some memory\n",
    "images_array = None"
   ]
  },
  {
   "cell_type": "code",
   "execution_count": 14,
   "id": "coordinate-yukon",
   "metadata": {},
   "outputs": [],
   "source": [
    "tensor_x_train = torch.Tensor(X_train) # transform to torch tensor\n",
    "tensor_y_train = torch.Tensor(y_train)\n",
    "tensor_y_train = tensor_y_train.type(torch.LongTensor)\n",
    "train_dataset = TensorDataset(tensor_x_train, tensor_y_train) # create your datset\n",
    "train_dataloader = DataLoader(train_dataset, batch_size=4) # create your dataloader\n",
    "\n",
    "tensor_x_test = torch.Tensor(X_test)\n",
    "tensor_y_test = torch.Tensor(y_test)\n",
    "tensor_y_test = tensor_y_test.type(torch.LongTensor)\n",
    "test_dataset = TensorDataset(tensor_x_test, tensor_y_test) \n",
    "test_dataloader = DataLoader(test_dataset, batch_size=1) "
   ]
  },
  {
   "cell_type": "code",
   "execution_count": 15,
   "id": "egyptian-marks",
   "metadata": {},
   "outputs": [],
   "source": [
    "# Free some memory\n",
    "X_train = None\n",
    "X_test = None"
   ]
  },
  {
   "cell_type": "code",
   "execution_count": 16,
   "id": "incoming-counter",
   "metadata": {},
   "outputs": [
    {
     "name": "stdout",
     "output_type": "stream",
     "text": [
      "<class 'torch.Tensor'> <class 'list'>\n",
      "torch.Size([4, 3, 200, 200]) 4\n"
     ]
    }
   ],
   "source": [
    "for i, data in enumerate(train_dataloader, 0):\n",
    "    # get the inputs; data is a list of [inputs, labels]\n",
    "    inputs, labels = data\n",
    "    print(type(inputs), type(data))\n",
    "    print(inputs.shape, len(labels))\n",
    "    break"
   ]
  },
  {
   "cell_type": "code",
   "execution_count": 17,
   "id": "virgin-spell",
   "metadata": {},
   "outputs": [],
   "source": [
    "import torch.nn as nn\n",
    "import torch.nn.functional as F\n",
    "\n",
    "\n",
    "class Net(nn.Module):\n",
    "    def __init__(self):\n",
    "        super(Net, self).__init__()\n",
    "        self.conv1 = nn.Conv2d(3, 6, 5)\n",
    "        self.pool = nn.MaxPool2d(2, 2)\n",
    "        self.conv2 = nn.Conv2d(6, 12, 5)\n",
    "        self.conv3 = nn.Conv2d(12, 24, 5)\n",
    "        self.conv4 = nn.Conv2d(24, 48, 5)\n",
    "        self.fc1 = nn.Linear(48 * 8 * 8, 120)\n",
    "        self.fc2 = nn.Linear(120, 84)\n",
    "        self.fc3 = nn.Linear(84, 29)\n",
    "\n",
    "    def forward(self, x):\n",
    "        x = self.pool(F.relu(self.conv1(x)))\n",
    "        x = self.pool(F.relu(self.conv2(x)))\n",
    "        x = self.pool(F.relu(self.conv3(x)))\n",
    "        x = self.pool(F.relu(self.conv4(x)))\n",
    "        x = x.view(x.size(0), -1)\n",
    "        x = F.relu(self.fc1(x))\n",
    "        x = F.relu(self.fc2(x))\n",
    "        x = self.fc3(x)\n",
    "        return x\n",
    "\n",
    "\n",
    "net = Net()"
   ]
  },
  {
   "cell_type": "code",
   "execution_count": 18,
   "id": "geological-research",
   "metadata": {},
   "outputs": [],
   "source": [
    "import torch.optim as optim\n",
    "\n",
    "criterion = nn.CrossEntropyLoss()\n",
    "optimizer = optim.SGD(net.parameters(), lr=0.001, momentum=0.9)"
   ]
  },
  {
   "cell_type": "code",
   "execution_count": 19,
   "id": "unusual-forwarding",
   "metadata": {},
   "outputs": [
    {
     "name": "stdout",
     "output_type": "stream",
     "text": [
      "[1,  2000] loss: 3.369\n",
      "[1,  4000] loss: 3.369\n",
      "[1,  6000] loss: 3.368\n",
      "[2,  2000] loss: 3.367\n",
      "[2,  4000] loss: 3.314\n",
      "[2,  6000] loss: 2.859\n",
      "[3,  2000] loss: 1.710\n",
      "[3,  4000] loss: 1.193\n",
      "[3,  6000] loss: 0.879\n",
      "[4,  2000] loss: 0.615\n",
      "[4,  4000] loss: 0.487\n",
      "[4,  6000] loss: 0.383\n",
      "[5,  2000] loss: 0.317\n",
      "[5,  4000] loss: 0.259\n",
      "[5,  6000] loss: 0.234\n",
      "Finished Training\n",
      "CPU times: user 1h 42min, sys: 5min 5s, total: 1h 47min 5s\n",
      "Wall time: 8min 55s\n"
     ]
    }
   ],
   "source": [
    "%%time\n",
    "\n",
    "for epoch in range(5):  # loop over the dataset multiple times\n",
    "\n",
    "    running_loss = 0.0\n",
    "    for i, data in enumerate(train_dataloader, 0):\n",
    "        # get the inputs; data is a list of [inputs, labels]\n",
    "        inputs, labels = data\n",
    "\n",
    "        # zero the parameter gradients\n",
    "        optimizer.zero_grad()\n",
    "\n",
    "        # forward + backward + optimize\n",
    "        outputs = net(inputs)\n",
    "        loss = criterion(outputs, labels)\n",
    "        loss.backward()\n",
    "        optimizer.step()\n",
    "\n",
    "        # print statistics\n",
    "        running_loss += loss.item()\n",
    "        if i % 2000 == 1999:    # print every 2000 mini-batches\n",
    "            print('[%d, %5d] loss: %.3f' %\n",
    "                  (epoch + 1, i + 1, running_loss / 2000))\n",
    "            running_loss = 0.0\n",
    "\n",
    "print('Finished Training')"
   ]
  },
  {
   "cell_type": "code",
   "execution_count": 20,
   "id": "educational-white",
   "metadata": {},
   "outputs": [],
   "source": [
    "def imshow(img):\n",
    "    npimg = img.numpy()\n",
    "    plt.imshow(np.transpose(npimg, (1, 2, 0)))\n",
    "    plt.show()\n",
    "    \n",
    "sign_classes = {0:'A', 1:'B', 2:'C', 3:'D', 4:'E', 5:'F', 6:'G', 7:'H', 8:'I', 9:'J', 10:'K', 11:'L', 12:'M', 13:'N', 14:'0', 15:'P', 16:'Q', 17:'R', 18:'S', 19:'T', 20:'U',\n",
    "                21:'V', 22:'W', 23:'X', 24:'Y', 25:'Z', 26:'del', 27:'nothing', 28:'space'}"
   ]
  },
  {
   "cell_type": "code",
   "execution_count": 21,
   "id": "vocational-display",
   "metadata": {},
   "outputs": [
    {
     "data": {
      "image/png": "[encoded data removed]",
      "text/plain": [
       "<Figure size 432x288 with 1 Axes>"
      ]
     },
     "metadata": {
      "needs_background": "light"
     },
     "output_type": "display_data"
    },
    {
     "name": "stdout",
     "output_type": "stream",
     "text": [
      "GroundTruth:  space\n"
     ]
    }
   ],
   "source": [
    "dataiter = iter(test_dataloader)\n",
    "images, labels = dataiter.next()\n",
    "\n",
    "# print images\n",
    "imshow(torchvision.utils.make_grid(images))\n",
    "print('GroundTruth: ', ' '.join('%5s' % sign_classes[labels[j].item()] for j in range(1)))"
   ]
  },
  {
   "cell_type": "code",
   "execution_count": 22,
   "id": "limited-colony",
   "metadata": {},
   "outputs": [
    {
     "name": "stdout",
     "output_type": "stream",
     "text": [
      "Predicted:  space\n"
     ]
    }
   ],
   "source": [
    "outputs = net(images)\n",
    "_, predicted = torch.max(outputs, 1)\n",
    "\n",
    "print('Predicted: ', ' '.join('%5s' % sign_classes[predicted[j].item()] for j in range(1)))"
   ]
  },
  {
   "cell_type": "code",
   "execution_count": 23,
   "id": "familiar-elephant",
   "metadata": {},
   "outputs": [
    {
     "name": "stdout",
     "output_type": "stream",
     "text": [
      "Accuracy of the network on the 1450 test images: 93 %\n"
     ]
    }
   ],
   "source": [
    "correct = 0\n",
    "total = 0\n",
    "with torch.no_grad():\n",
    "    for data in test_dataloader:\n",
    "        images, labels = data\n",
    "        outputs = net(images)\n",
    "        _, predicted = torch.max(outputs.data, 1)\n",
    "        total += labels.size(0)\n",
    "        correct += (predicted == labels).sum().item()\n",
    "\n",
    "print('Accuracy of the network on the 1450 test images: %d %%' % (100 * correct / total))"
   ]
  },
  {
   "cell_type": "code",
   "execution_count": 24,
   "id": "bacterial-wisconsin",
   "metadata": {},
   "outputs": [
    {
     "name": "stdout",
     "output_type": "stream",
     "text": [
      "Accuracy of     A : 92 %\n",
      "Accuracy of     B : 97 %\n",
      "Accuracy of     C : 97 %\n",
      "Accuracy of     D : 96 %\n",
      "Accuracy of     E : 89 %\n",
      "Accuracy of     F : 96 %\n",
      "Accuracy of     G : 89 %\n",
      "Accuracy of     H : 97 %\n",
      "Accuracy of     I : 93 %\n",
      "Accuracy of     J : 97 %\n",
      "Accuracy of     K : 89 %\n",
      "Accuracy of     L : 100 %\n",
      "Accuracy of     M : 88 %\n",
      "Accuracy of     N : 97 %\n",
      "Accuracy of     0 : 88 %\n",
      "Accuracy of     P : 94 %\n",
      "Accuracy of     Q : 96 %\n",
      "Accuracy of     R : 83 %\n",
      "Accuracy of     S : 80 %\n",
      "Accuracy of     T : 98 %\n",
      "Accuracy of     U : 90 %\n",
      "Accuracy of     V : 93 %\n",
      "Accuracy of     W : 95 %\n",
      "Accuracy of     X : 92 %\n",
      "Accuracy of     Y : 87 %\n",
      "Accuracy of     Z : 100 %\n",
      "Accuracy of   del : 96 %\n",
      "Accuracy of nothing : 100 %\n",
      "Accuracy of space : 94 %\n"
     ]
    }
   ],
   "source": [
    "class_correct = list(0. for i in range(29))\n",
    "class_total = list(0. for i in range(29))\n",
    "with torch.no_grad():\n",
    "    for data in test_dataloader:\n",
    "        images, labels = data; \n",
    "        outputs = net(images)\n",
    "        _, predicted = torch.max(outputs, 1)\n",
    "        c = (predicted == labels).squeeze()\n",
    "        label = labels[0]\n",
    "        class_correct[label] += c.item()\n",
    "        class_total[label] += 1\n",
    "\n",
    "for i in range(29):\n",
    "    print('Accuracy of %5s : %2d %%' % (sign_classes[i], 100 * class_correct[i] / class_total[i]))"
   ]
  }
 ],
 "metadata": {
  "kernelspec": {
   "display_name": "Python 3",
   "language": "python",
   "name": "python3"
  },
  "language_info": {
   "codemirror_mode": {
    "name": "ipython",
    "version": 3
   },
   "file_extension": ".py",
   "mimetype": "text/x-python",
   "name": "python",
   "nbconvert_exporter": "python",
   "pygments_lexer": "ipython3",
   "version": "3.7.9"
  }
 },
 "nbformat": 4,
 "nbformat_minor": 5
}
